{
  "cells": [
    {
      "cell_type": "markdown",
      "metadata": {
        "id": "udQ71dDZSORw"
      },
      "source": [
        "# Basic Python\n",
        "\n",
        "Python is a high level general purpose programming language. Python is easy to read, understand and learn.\n",
        "\n",
        "You can run python code in different ways:\n",
        "\n",
        "* Python interpreter: line-by-line in a shell (like an advanced calculator)\n",
        "* IPython intepreter: **I**nteractive Python shell (with syntax highlighting etc)\n",
        "* Script: run all your code in a txt-file\n",
        "* Jupyter notebook: interactive web-based environment for combining text, code and plots\n",
        "\n",
        "We will use Jupyter notebooks in this course."
      ]
    },
    {
      "cell_type": "code",
      "source": [
        "print(\"Hello worl\")"
      ],
      "metadata": {
        "id": "lTuLphZhY2SL"
      },
      "execution_count": null,
      "outputs": []
    }
  ],
  "metadata": {
    "interpreter": {
      "hash": "f4041ee05ab07c15354d6207e763f17a216c3f5ccf08906343c2b4fd3fa7a6fb"
    },
    "kernelspec": {
      "display_name": "Python 3 (ipykernel)",
      "language": "python",
      "name": "python3"
    },
    "language_info": {
      "codemirror_mode": {
        "name": "ipython",
        "version": 3
      },
      "file_extension": ".py",
      "mimetype": "text/x-python",
      "name": "python",
      "nbconvert_exporter": "python",
      "pygments_lexer": "ipython3",
      "version": "3.10.12"
    },
    "colab": {
      "provenance": []
    }
  },
  "nbformat": 4,
  "nbformat_minor": 0
}