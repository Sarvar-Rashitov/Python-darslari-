{
  "cells": [
    {
      "cell_type": "markdown",
      "metadata": {
        "id": "udQ71dDZSORw"
      },
      "source": [
        "# Basic Python\n",
        "\n",
        "Python is a high level general purpose programming language. Python is easy to read, understand and learn.\n",
        "\n",
        "You can run python code in different ways:\n",
        "\n",
        "* Python interpreter: line-by-line in a shell (like an advanced calculator)\n",
        "* IPython intepreter: **I**nteractive Python shell (with syntax highlighting etc)\n",
        "* Script: run all your code in a txt-file\n",
        "* Jupyter notebook: interactive web-based environment for combining text, code and plots\n",
        "\n",
        "We will use Jupyter notebooks in this course."
      ]
    },
    {
      "cell_type": "markdown",
      "source": [
        "# Новый раздел"
      ],
      "metadata": {
        "id": "XvrubzcUTPMK"
      }
    },
    {
      "cell_type": "markdown",
      "metadata": {
        "id": "sieGDZGVSOSz"
      },
      "source": [
        "## Jupyter\n",
        "\n",
        "A cell in jupyter is either \"code\" or \"markdown\". See [markdown cheat sheet](https://www.markdownguide.org/cheat-sheet/) for help on writing markdown text.\n",
        "\n",
        "You will be navigating Jupyter cells alot so it's important to learn a few [keyboard shortcuts](https://www.dataday.life/notes/jupyter-notebooks/cheat-sheet-jupyter-notebook-keyboard-shortcuts/):\n",
        "\n",
        "* 'Ctrl'+'Enter': run cell\n",
        "* 'Shift'+'Enter': run cell and jump to next\n",
        "\n",
        "You can exit \"edit mode\" (and enter \"command mode\") by pressing 'Esc', you can now press:\n",
        "\n",
        "* 'a': insert cell above\n",
        "* 'b': insert cell below\n",
        "* 'm': change cell to markdown\n",
        "* 'y': change cell to code\n",
        "* 'd'+'d': delete cell"
      ]
    },
    {
      "cell_type": "markdown",
      "metadata": {
        "id": "O_hIfSuXSOS7"
      },
      "source": [
        "### Code completion and help\n",
        "\n",
        "Jupyter lab can help you complete Python code, if you press \"tab\". If you have your cursor on a function, you can get the function signature by pressing \"shift\"+\"tab\"."
      ]
    },
    {
      "cell_type": "code",
      "execution_count": null,
      "metadata": {
        "id": "PK8WY5fRSOTB",
        "outputId": "76c86075-cb30-496f-ad08-689eae348498"
      },
      "outputs": [
        {
          "name": "stdout",
          "output_type": "stream",
          "text": [
            "\u001b[0;31mDocstring:\u001b[0m\n",
            "Return the current working directory path.\n",
            "\n",
            "Examples\n",
            "--------\n",
            "::\n",
            "\n",
            "  In [9]: pwd\n",
            "  Out[9]: '/home/tsuser/sprint/ipython'\n",
            "\u001b[0;31mFile:\u001b[0m      ~/src/getting-started-with-mikeio/.venv/lib/python3.10/site-packages/IPython/core/magics/osm.py"
          ]
        }
      ],
      "source": [
        "# You can get help by writting ? before or after a function/variable\n",
        "pwd?"
      ]
    },
    {
      "cell_type": "markdown",
      "metadata": {
        "id": "hW-VTJfGSOTV"
      },
      "source": [
        "### Current working directory\n",
        "\n",
        "When reading (or writing) files from the local file system, it is important to know your current path. You you print the current path by the command pwd:"
      ]
    },
    {
      "cell_type": "code",
      "execution_count": null,
      "metadata": {
        "id": "aEWpn7DVSOTZ",
        "outputId": "ae8ae132-4ba8-466c-c880-899b1912dc47"
      },
      "outputs": [
        {
          "data": {
            "text/plain": [
              "'/home/jan/src/getting-started-with-mikeio/mini_book'"
            ]
          },
          "execution_count": 21,
          "metadata": {},
          "output_type": "execute_result"
        }
      ],
      "source": [
        "pwd"
      ]
    },
    {
      "cell_type": "markdown",
      "metadata": {
        "id": "fFgphIT_SOTg"
      },
      "source": [
        "We recommend that you start jupyter from the \"mini_book\" folder in this course as it will make the relative paths to the data files work."
      ]
    },
    {
      "cell_type": "markdown",
      "metadata": {
        "id": "IzJ1e82dSOTj"
      },
      "source": [
        "### Windows paths\n",
        "\n",
        "Backslash \\\\ is used to separate folders in Windows. In Python strings, backslash \\\\ is an escape character. You can write windows paths in Python the following ways:\n",
        "\n",
        "* use \"raw-string\" representation by pre-fixing the string with r, like this: r\"folder\\file.ext\"\n",
        "* use slash \"/\" (as on linux and http), like this: \"folder/file.ext\"\n",
        "* use double backslash, like this: \"folder\\\\\\\\\\file.ext\"\n",
        "\n",
        "We recommend using slash \"/\" where possible as it also works on linux."
      ]
    },
    {
      "cell_type": "markdown",
      "metadata": {
        "id": "IqQti3htSOTm"
      },
      "source": [
        "## Variables"
      ]
    },
    {
      "cell_type": "code",
      "execution_count": null,
      "metadata": {
        "id": "93zBNJsCSOTp",
        "outputId": "47fd0baa-8241-440d-ce6e-750141d3a4e1"
      },
      "outputs": [
        {
          "data": {
            "text/plain": [
              "2.2"
            ]
          },
          "execution_count": 22,
          "metadata": {},
          "output_type": "execute_result"
        }
      ],
      "source": [
        "var1 = 2.2\n",
        "var1"
      ]
    },
    {
      "cell_type": "code",
      "execution_count": null,
      "metadata": {
        "id": "1fu9QuNpSOTw"
      },
      "outputs": [],
      "source": [
        "var2 = var1"
      ]
    },
    {
      "cell_type": "code",
      "execution_count": null,
      "metadata": {
        "id": "M0GIETCbSOT1",
        "outputId": "37aaccd8-268a-48a7-e410-5e85001ac8f5"
      },
      "outputs": [
        {
          "data": {
            "text/plain": [
              "'3.3'"
            ]
          },
          "execution_count": 24,
          "metadata": {},
          "output_type": "execute_result"
        }
      ],
      "source": [
        "var2 = \"3.3\"    # now changed type\n",
        "var2"
      ]
    },
    {
      "cell_type": "code",
      "execution_count": null,
      "metadata": {
        "id": "xzc1nTy0SOT5",
        "outputId": "0c037516-9eb0-4a8b-c29c-90af2e8baa13"
      },
      "outputs": [
        {
          "data": {
            "text/plain": [
              "2.2"
            ]
          },
          "execution_count": 25,
          "metadata": {},
          "output_type": "execute_result"
        }
      ],
      "source": [
        "var1     # var1 stays the same, when we change var2 (numeric type)"
      ]
    },
    {
      "cell_type": "code",
      "execution_count": null,
      "metadata": {
        "id": "eP4IwqetSOT-",
        "outputId": "a988a221-b6b5-49fe-ee39-4e146c149700"
      },
      "outputs": [
        {
          "data": {
            "text/plain": [
              "float"
            ]
          },
          "execution_count": 26,
          "metadata": {},
          "output_type": "execute_result"
        }
      ],
      "source": [
        "type(var1)"
      ]
    },
    {
      "cell_type": "markdown",
      "metadata": {
        "id": "zLFXd4ngSOUC"
      },
      "source": [
        "## Lists"
      ]
    },
    {
      "cell_type": "code",
      "execution_count": null,
      "metadata": {
        "id": "01uO6KA3SOUE",
        "outputId": "c6a8c2ff-5c98-4af8-9abd-196f943028b7"
      },
      "outputs": [
        {
          "data": {
            "text/plain": [
              "[1.0, 2.0, 1.5]"
            ]
          },
          "execution_count": 27,
          "metadata": {},
          "output_type": "execute_result"
        }
      ],
      "source": [
        "# A list is created with [..,..]\n",
        "myvals = [1.0, 2.0, 1.5]\n",
        "myvals"
      ]
    },
    {
      "cell_type": "code",
      "execution_count": null,
      "metadata": {
        "id": "gDCjrjOlSOUH",
        "outputId": "dfef0553-52d6-4a7f-fb26-e0e99c93f01b"
      },
      "outputs": [
        {
          "data": {
            "text/plain": [
              "1.0"
            ]
          },
          "execution_count": 28,
          "metadata": {},
          "output_type": "execute_result"
        }
      ],
      "source": [
        "myvals[0]"
      ]
    },
    {
      "cell_type": "code",
      "execution_count": null,
      "metadata": {
        "id": "dOCp9PLwSOUK"
      },
      "outputs": [],
      "source": [
        "myvals2 = myvals     # this is *not* a copy!"
      ]
    },
    {
      "cell_type": "code",
      "execution_count": null,
      "metadata": {
        "id": "Wob5fz89SOUN"
      },
      "outputs": [],
      "source": [
        "myvals2[1] = 3.3"
      ]
    },
    {
      "cell_type": "code",
      "execution_count": null,
      "metadata": {
        "id": "Nmo6v-sNSOUT",
        "outputId": "ce16b3f3-9e6e-4044-dc05-bfff83fd5a4c"
      },
      "outputs": [
        {
          "data": {
            "text/plain": [
              "[1.0, 3.3, 1.5]"
            ]
          },
          "execution_count": 31,
          "metadata": {},
          "output_type": "execute_result"
        }
      ],
      "source": [
        "myvals     # myvals has also changed! (myvals and myvals2 reference the same object)"
      ]
    },
    {
      "cell_type": "code",
      "execution_count": null,
      "metadata": {
        "id": "M_MhDmxeSOUX",
        "outputId": "e19b0b2b-a1f1-48cf-94c0-f332e6ee8dd0"
      },
      "outputs": [
        {
          "data": {
            "text/plain": [
              "True"
            ]
          },
          "execution_count": 32,
          "metadata": {},
          "output_type": "execute_result"
        }
      ],
      "source": [
        "id(myvals) == id(myvals2)"
      ]
    },
    {
      "cell_type": "code",
      "execution_count": null,
      "metadata": {
        "id": "ejUqOuVzSOUa"
      },
      "outputs": [],
      "source": [
        "# lists can contain all sorts of different variables\n",
        "stuff = [5, 3.0, \"MIKE ZERO\", b'a', [1,2]]"
      ]
    },
    {
      "cell_type": "code",
      "execution_count": null,
      "metadata": {
        "id": "Bmk1Fz5USOUf",
        "outputId": "b14d5489-7271-482f-a05a-a51c7aae3902"
      },
      "outputs": [
        {
          "data": {
            "text/plain": [
              "int"
            ]
          },
          "execution_count": 34,
          "metadata": {},
          "output_type": "execute_result"
        }
      ],
      "source": [
        "type(stuff[0])"
      ]
    },
    {
      "cell_type": "markdown",
      "metadata": {
        "id": "ifr7jsl8SOUi"
      },
      "source": [
        "## Tuple\n",
        "Tuples are similar to lists but immutable (once they are created they cannot be changed)."
      ]
    },
    {
      "cell_type": "code",
      "execution_count": null,
      "metadata": {
        "id": "HJzHe8ogSOUl",
        "outputId": "f75e4320-e55f-4272-d136-cd052f8267d2"
      },
      "outputs": [
        {
          "data": {
            "text/plain": [
              "(34, 0.2, 'txt')"
            ]
          },
          "execution_count": 35,
          "metadata": {},
          "output_type": "execute_result"
        }
      ],
      "source": [
        "my_tuple = (34, 0.2, \"txt\")\n",
        "my_tuple"
      ]
    },
    {
      "cell_type": "code",
      "execution_count": null,
      "metadata": {
        "id": "wnXhKWtOSOUo",
        "outputId": "de81ec3f-f7f6-4afc-cabf-12bf7a121e69"
      },
      "outputs": [
        {
          "data": {
            "text/plain": [
              "'txt'"
            ]
          },
          "execution_count": 36,
          "metadata": {},
          "output_type": "execute_result"
        }
      ],
      "source": [
        "my_tuple[2]"
      ]
    },
    {
      "cell_type": "code",
      "execution_count": null,
      "metadata": {
        "id": "5-ScnCRnSOUq"
      },
      "outputs": [],
      "source": [
        "# my_tuple[2] = 'new_txt'   # executing this line will fail"
      ]
    },
    {
      "cell_type": "markdown",
      "metadata": {
        "id": "5BqIVJfVSOUs"
      },
      "source": [
        "## Dictionary"
      ]
    },
    {
      "cell_type": "code",
      "execution_count": null,
      "metadata": {
        "id": "OCqwDmVCSOUv",
        "outputId": "793c3ae0-1983-4480-ee02-115a1ab03412"
      },
      "outputs": [
        {
          "data": {
            "text/plain": [
              "{'banana': 4, 'apple': 7}"
            ]
          },
          "execution_count": 38,
          "metadata": {},
          "output_type": "execute_result"
        }
      ],
      "source": [
        "fruits = {'banana':4, 'apple':7}\n",
        "fruits"
      ]
    },
    {
      "cell_type": "code",
      "execution_count": null,
      "metadata": {
        "id": "NRO706S3SOUz",
        "outputId": "99a9bbc3-ecb7-4d3e-8495-96002c269b5a"
      },
      "outputs": [
        {
          "data": {
            "text/plain": [
              "{'banana': 4, 'apple': 7, 'orange': 9}"
            ]
          },
          "execution_count": 39,
          "metadata": {},
          "output_type": "execute_result"
        }
      ],
      "source": [
        "fruits['orange'] = 9\n",
        "fruits"
      ]
    },
    {
      "cell_type": "code",
      "execution_count": null,
      "metadata": {
        "id": "f0IWu7pbSOU2",
        "outputId": "52da9ede-5ec0-48f1-810c-bbde76d6d8f1"
      },
      "outputs": [
        {
          "data": {
            "text/plain": [
              "dict_keys(['banana', 'apple', 'orange'])"
            ]
          },
          "execution_count": 40,
          "metadata": {},
          "output_type": "execute_result"
        }
      ],
      "source": [
        "fruits.keys()"
      ]
    },
    {
      "cell_type": "code",
      "execution_count": null,
      "metadata": {
        "id": "v3qjXyebSOU5",
        "outputId": "af6f5c5e-cbd3-42bb-ccfc-3cf32bbef639"
      },
      "outputs": [
        {
          "data": {
            "text/plain": [
              "4"
            ]
          },
          "execution_count": 41,
          "metadata": {},
          "output_type": "execute_result"
        }
      ],
      "source": [
        "fruits['banana']"
      ]
    },
    {
      "cell_type": "code",
      "execution_count": null,
      "metadata": {
        "id": "7MOM_wMmSOVF",
        "outputId": "2fe956a5-035a-4fa4-a689-e572c4723e6d"
      },
      "outputs": [
        {
          "data": {
            "text/plain": [
              "dict_values([4, 7, 9])"
            ]
          },
          "execution_count": 42,
          "metadata": {},
          "output_type": "execute_result"
        }
      ],
      "source": [
        "fruits.values()"
      ]
    },
    {
      "cell_type": "code",
      "execution_count": null,
      "metadata": {
        "id": "ok22bN6aSOVI",
        "outputId": "01594821-bad6-476f-f5e6-e120e070be91"
      },
      "outputs": [
        {
          "data": {
            "text/plain": [
              "dict_items([('banana', 4), ('apple', 7), ('orange', 9)])"
            ]
          },
          "execution_count": 43,
          "metadata": {},
          "output_type": "execute_result"
        }
      ],
      "source": [
        "fruits.items()"
      ]
    },
    {
      "cell_type": "markdown",
      "metadata": {
        "id": "t_-9HozESOVL"
      },
      "source": [
        "## Control structures\n",
        "\n",
        "Notice the colons and identation!\n",
        "\n",
        "* [Python conditions](https://www.w3schools.com/python/python_conditions.asp)\n",
        "* [Python for loop](https://www.w3schools.com/python/python_for_loops.asp)"
      ]
    },
    {
      "cell_type": "code",
      "execution_count": null,
      "metadata": {
        "id": "ZhSF3MgbSOVN",
        "outputId": "c5803905-8534-461d-c6b7-b9ddb092e40e"
      },
      "outputs": [
        {
          "name": "stdout",
          "output_type": "stream",
          "text": [
            "You are ok\n"
          ]
        }
      ],
      "source": [
        "i_am = 'ok'\n",
        "if i_am == 'ok':\n",
        "    print('You are ok')\n",
        "elif i_am == 'great':\n",
        "    print('You are great')\n",
        "else:\n",
        "    print(\"I don't know how you are!\")"
      ]
    },
    {
      "cell_type": "code",
      "execution_count": null,
      "metadata": {
        "id": "ZKIyunUCSOVT",
        "outputId": "bedbc991-e70f-484b-ffc7-34c9a81b8e66"
      },
      "outputs": [
        {
          "name": "stdout",
          "output_type": "stream",
          "text": [
            "0\n",
            "1\n",
            "2\n"
          ]
        }
      ],
      "source": [
        "for j in range(3):\n",
        "    print(j)"
      ]
    },
    {
      "cell_type": "code",
      "execution_count": null,
      "metadata": {
        "id": "L0v4E9_6SOVX",
        "outputId": "5afad1c7-0740-4892-fbfd-4760587ae091"
      },
      "outputs": [
        {
          "name": "stdout",
          "output_type": "stream",
          "text": [
            "Hi Carl!\n",
            "Hi Chan!\n",
            "Hi Clarice!\n"
          ]
        }
      ],
      "source": [
        "names = ['Carl','Chan','Clarice']\n",
        "for name in names:\n",
        "    print(f'Hi {name}!')"
      ]
    },
    {
      "cell_type": "markdown",
      "metadata": {
        "id": "D8phQKVjSOVa"
      },
      "source": [
        "A loop can also be expressed using special syntax known as a list comprehension."
      ]
    },
    {
      "cell_type": "code",
      "execution_count": null,
      "metadata": {
        "id": "xl82RZalSOVj",
        "outputId": "67d0e0ef-6312-4709-dff1-ef799ceea195"
      },
      "outputs": [
        {
          "data": {
            "text/plain": [
              "['carl', 'chan', 'clarice']"
            ]
          },
          "execution_count": 47,
          "metadata": {},
          "output_type": "execute_result"
        }
      ],
      "source": [
        "lnames = [name.lower() for name in names]\n",
        "lnames"
      ]
    },
    {
      "cell_type": "markdown",
      "metadata": {
        "id": "9nJV9NLSSOVm"
      },
      "source": [
        "## Functions\n",
        "\n",
        "It is very useful to create your own functions to collect code that belongs together in a function, which can be reused in several places in your code without copying and pasting the entire snippet."
      ]
    },
    {
      "cell_type": "code",
      "execution_count": null,
      "metadata": {
        "id": "nkUAnTvPSOVp"
      },
      "outputs": [],
      "source": [
        "import re\n",
        "\n",
        "def clean_name(name):\n",
        "    \"Clean and short name\"\n",
        "    clean = re.sub('[^A-Za-z0-9]+', '', name)\n",
        "    short = clean[:15]\n",
        "    lower = short.lower()\n",
        "    return lower"
      ]
    },
    {
      "cell_type": "code",
      "execution_count": null,
      "metadata": {
        "id": "m8H3_zWTSOVr",
        "outputId": "00a00004-71ad-4748-e31d-c54a521ec1ac"
      },
      "outputs": [
        {
          "data": {
            "text/plain": [
              "'whatalousylongn'"
            ]
          },
          "execution_count": 49,
          "metadata": {},
          "output_type": "execute_result"
        }
      ],
      "source": [
        "clean_name(\"#What a lousy & long name\")"
      ]
    },
    {
      "cell_type": "code",
      "execution_count": null,
      "metadata": {
        "id": "PG32DI3GSOVu",
        "outputId": "34de6f18-6f94-492d-9231-3355f945cebe"
      },
      "outputs": [
        {
          "data": {
            "text/plain": [
              "'goodname'"
            ]
          },
          "execution_count": 50,
          "metadata": {},
          "output_type": "execute_result"
        }
      ],
      "source": [
        "clean_name(\"goodname\")"
      ]
    },
    {
      "cell_type": "code",
      "execution_count": null,
      "metadata": {
        "id": "_2REb2LXSOV0"
      },
      "outputs": [],
      "source": [
        "long_and_ugly_names = [\"Wave Height # Modelled\", \"Wave Period # Modelled\", \"Wave Direction # Modelled\"]"
      ]
    },
    {
      "cell_type": "markdown",
      "metadata": {
        "id": "7j2BsDmkSOV4"
      },
      "source": [
        "Combine a list comprehension with your own function"
      ]
    },
    {
      "cell_type": "code",
      "execution_count": null,
      "metadata": {
        "id": "I1teMN_dSOV6",
        "outputId": "cb02578e-a2e0-4e92-eb2f-c4a76fb54c92"
      },
      "outputs": [
        {
          "data": {
            "text/plain": [
              "['waveheightmodel', 'waveperiodmodel', 'wavedirectionmo']"
            ]
          },
          "execution_count": 52,
          "metadata": {},
          "output_type": "execute_result"
        }
      ],
      "source": [
        "[clean_name(x) for x in long_and_ugly_names]"
      ]
    },
    {
      "cell_type": "code",
      "execution_count": null,
      "metadata": {
        "id": "umQorcVxSOV-"
      },
      "outputs": [],
      "source": []
    }
  ],
  "metadata": {
    "interpreter": {
      "hash": "f4041ee05ab07c15354d6207e763f17a216c3f5ccf08906343c2b4fd3fa7a6fb"
    },
    "kernelspec": {
      "display_name": "Python 3 (ipykernel)",
      "language": "python",
      "name": "python3"
    },
    "language_info": {
      "codemirror_mode": {
        "name": "ipython",
        "version": 3
      },
      "file_extension": ".py",
      "mimetype": "text/x-python",
      "name": "python",
      "nbconvert_exporter": "python",
      "pygments_lexer": "ipython3",
      "version": "3.10.12"
    },
    "colab": {
      "provenance": [],
      "toc_visible": true
    }
  },
  "nbformat": 4,
  "nbformat_minor": 0
}