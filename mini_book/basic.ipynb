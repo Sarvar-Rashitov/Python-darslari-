{
  "cells": [
    {
      "cell_type": "markdown",
      "metadata": {
        "id": "udQ71dDZSORw"
      },
      "source": [
        "# Basic Python\n",
        "\n",
        "Python is a high level general purpose programming language. Python is easy to read, understand and learn.\n",
        "\n",
        "You can run python code in different ways:\n",
        "\n",
        "* Python interpreter: line-by-line in a shell (like an advanced calculator)\n",
        "* IPython intepreter: **I**nteractive Python shell (with syntax highlighting etc)\n",
        "* Script: run all your code in a txt-file\n",
        "* Jupyter notebook: interactive web-based environment for combining text, code and plots\n",
        "\n",
        "We will use Jupyter notebooks in this course."
      ]
    },
    {
      "cell_type": "markdown",
      "source": [
        "# Новый раздел"
      ],
      "metadata": {
        "id": "XvrubzcUTPMK"
      }
    },
    {
      "cell_type": "markdown",
      "metadata": {
        "id": "sieGDZGVSOSz"
      },
      "source": [
        "## Jupyter\n",
        "\n",
        "A cell in jupyter is either \"code\" or \"markdown\". See [markdown cheat sheet](https://www.markdownguide.org/cheat-sheet/) for help on writing markdown text.\n",
        "\n",
        "You will be navigating Jupyter cells alot so it's important to learn a few [keyboard shortcuts](https://www.dataday.life/notes/jupyter-notebooks/cheat-sheet-jupyter-notebook-keyboard-shortcuts/):\n",
        "\n",
        "* 'Ctrl'+'Enter': run cell\n",
        "* 'Shift'+'Enter': run cell and jump to next\n",
        "\n",
        "You can exit \"edit mode\" (and enter \"command mode\") by pressing 'Esc', you can now press:\n",
        "\n",
        "* 'a': insert cell above\n",
        "* 'b': insert cell below\n",
        "* 'm': change cell to markdown\n",
        "* 'y': change cell to code\n",
        "* 'd'+'d': delete cell"
      ]
    },
    {
      "cell_type": "markdown",
      "metadata": {
        "id": "O_hIfSuXSOS7"
      },
      "source": [
        "### Code completion and help\n",
        "\n",
        "Jupyter lab can help you complete Python code, if you press \"tab\". If you have your cursor on a function, you can get the function signature by pressing \"shift\"+\"tab\"."
      ]
    },
    {
      "cell_type": "code",
      "execution_count": 1,
      "metadata": {
        "id": "PK8WY5fRSOTB"
      },
      "outputs": [],
      "source": [
        "# You can get help by writting ? before or after a function/variable\n",
        "pwd?"
      ]
    },
    {
      "cell_type": "markdown",
      "metadata": {
        "id": "hW-VTJfGSOTV"
      },
      "source": [
        "### Current working directory\n",
        "\n",
        "When reading (or writing) files from the local file system, it is important to know your current path. You you print the current path by the command pwd:"
      ]
    },
    {
      "cell_type": "code",
      "execution_count": 2,
      "metadata": {
        "colab": {
          "base_uri": "https://localhost:8080/",
          "height": 36
        },
        "id": "aEWpn7DVSOTZ",
        "outputId": "a2bc5d16-c46d-4aaa-fefb-970a430552ba"
      },
      "outputs": [
        {
          "output_type": "execute_result",
          "data": {
            "text/plain": [
              "'/content'"
            ],
            "application/vnd.google.colaboratory.intrinsic+json": {
              "type": "string"
            }
          },
          "metadata": {},
          "execution_count": 2
        }
      ],
      "source": [
        "pwd"
      ]
    },
    {
      "cell_type": "markdown",
      "metadata": {
        "id": "fFgphIT_SOTg"
      },
      "source": [
        "We recommend that you start jupyter from the \"mini_book\" folder in this course as it will make the relative paths to the data files work."
      ]
    },
    {
      "cell_type": "markdown",
      "metadata": {
        "id": "IzJ1e82dSOTj"
      },
      "source": [
        "### Windows paths\n",
        "\n",
        "Backslash \\\\ is used to separate folders in Windows. In Python strings, backslash \\\\ is an escape character. You can write windows paths in Python the following ways:\n",
        "\n",
        "* use \"raw-string\" representation by pre-fixing the string with r, like this: r\"folder\\file.ext\"\n",
        "* use slash \"/\" (as on linux and http), like this: \"folder/file.ext\"\n",
        "* use double backslash, like this: \"folder\\\\\\\\\\file.ext\"\n",
        "\n",
        "We recommend using slash \"/\" where possible as it also works on linux."
      ]
    },
    {
      "cell_type": "markdown",
      "metadata": {
        "id": "IqQti3htSOTm"
      },
      "source": [
        "## Variables"
      ]
    },
    {
      "cell_type": "code",
      "execution_count": 3,
      "metadata": {
        "colab": {
          "base_uri": "https://localhost:8080/"
        },
        "id": "93zBNJsCSOTp",
        "outputId": "519cbeb6-b5c4-4f22-83ee-664b392b91a5"
      },
      "outputs": [
        {
          "output_type": "execute_result",
          "data": {
            "text/plain": [
              "2.2"
            ]
          },
          "metadata": {},
          "execution_count": 3
        }
      ],
      "source": [
        "var1 = 2.2\n",
        "var1"
      ]
    },
    {
      "cell_type": "code",
      "execution_count": 4,
      "metadata": {
        "id": "1fu9QuNpSOTw"
      },
      "outputs": [],
      "source": [
        "var2 = var1"
      ]
    },
    {
      "cell_type": "code",
      "execution_count": 5,
      "metadata": {
        "colab": {
          "base_uri": "https://localhost:8080/",
          "height": 36
        },
        "id": "M0GIETCbSOT1",
        "outputId": "88e96ce2-d508-4464-e437-4a435fb38410"
      },
      "outputs": [
        {
          "output_type": "execute_result",
          "data": {
            "text/plain": [
              "'3.3'"
            ],
            "application/vnd.google.colaboratory.intrinsic+json": {
              "type": "string"
            }
          },
          "metadata": {},
          "execution_count": 5
        }
      ],
      "source": [
        "var2 = \"3.3\"    # now changed type\n",
        "var2"
      ]
    },
    {
      "cell_type": "code",
      "execution_count": 6,
      "metadata": {
        "colab": {
          "base_uri": "https://localhost:8080/"
        },
        "id": "xzc1nTy0SOT5",
        "outputId": "4b2b6df9-b358-41aa-bf70-00c50ec10e0a"
      },
      "outputs": [
        {
          "output_type": "execute_result",
          "data": {
            "text/plain": [
              "2.2"
            ]
          },
          "metadata": {},
          "execution_count": 6
        }
      ],
      "source": [
        "var1     # var1 stays the same, when we change var2 (numeric type)"
      ]
    },
    {
      "cell_type": "code",
      "execution_count": 7,
      "metadata": {
        "colab": {
          "base_uri": "https://localhost:8080/"
        },
        "id": "eP4IwqetSOT-",
        "outputId": "392b0162-89e1-427d-b008-b4f28b323529"
      },
      "outputs": [
        {
          "output_type": "execute_result",
          "data": {
            "text/plain": [
              "float"
            ]
          },
          "metadata": {},
          "execution_count": 7
        }
      ],
      "source": [
        "type(var1)"
      ]
    },
    {
      "cell_type": "markdown",
      "metadata": {
        "id": "zLFXd4ngSOUC"
      },
      "source": [
        "## Lists"
      ]
    },
    {
      "cell_type": "code",
      "execution_count": 8,
      "metadata": {
        "colab": {
          "base_uri": "https://localhost:8080/"
        },
        "id": "01uO6KA3SOUE",
        "outputId": "a14950ea-db34-4db3-ab81-567ab90dd62a"
      },
      "outputs": [
        {
          "output_type": "execute_result",
          "data": {
            "text/plain": [
              "[1.0, 2.0, 1.5]"
            ]
          },
          "metadata": {},
          "execution_count": 8
        }
      ],
      "source": [
        "# A list is created with [..,..]\n",
        "myvals = [1.0, 2.0, 1.5]\n",
        "myvals"
      ]
    },
    {
      "cell_type": "code",
      "execution_count": 9,
      "metadata": {
        "colab": {
          "base_uri": "https://localhost:8080/"
        },
        "id": "gDCjrjOlSOUH",
        "outputId": "6c9f3317-2330-48e0-b63e-97d3b493398f"
      },
      "outputs": [
        {
          "output_type": "execute_result",
          "data": {
            "text/plain": [
              "1.0"
            ]
          },
          "metadata": {},
          "execution_count": 9
        }
      ],
      "source": [
        "myvals[0]"
      ]
    },
    {
      "cell_type": "code",
      "execution_count": 10,
      "metadata": {
        "id": "dOCp9PLwSOUK"
      },
      "outputs": [],
      "source": [
        "myvals2 = myvals     # this is *not* a copy!"
      ]
    },
    {
      "cell_type": "code",
      "execution_count": 11,
      "metadata": {
        "id": "Wob5fz89SOUN"
      },
      "outputs": [],
      "source": [
        "myvals2[1] = 3.3"
      ]
    },
    {
      "cell_type": "code",
      "execution_count": 12,
      "metadata": {
        "colab": {
          "base_uri": "https://localhost:8080/"
        },
        "id": "Nmo6v-sNSOUT",
        "outputId": "2434ac5a-2549-4ea7-861f-956a647a8082"
      },
      "outputs": [
        {
          "output_type": "execute_result",
          "data": {
            "text/plain": [
              "[1.0, 3.3, 1.5]"
            ]
          },
          "metadata": {},
          "execution_count": 12
        }
      ],
      "source": [
        "myvals     # myvals has also changed! (myvals and myvals2 reference the same object)"
      ]
    },
    {
      "cell_type": "code",
      "execution_count": 13,
      "metadata": {
        "colab": {
          "base_uri": "https://localhost:8080/"
        },
        "id": "M_MhDmxeSOUX",
        "outputId": "0c0fc7b2-2c46-4e42-a3e2-1bb1b50975c5"
      },
      "outputs": [
        {
          "output_type": "execute_result",
          "data": {
            "text/plain": [
              "True"
            ]
          },
          "metadata": {},
          "execution_count": 13
        }
      ],
      "source": [
        "id(myvals) == id(myvals2)"
      ]
    },
    {
      "cell_type": "code",
      "execution_count": 14,
      "metadata": {
        "id": "ejUqOuVzSOUa"
      },
      "outputs": [],
      "source": [
        "# lists can contain all sorts of different variables\n",
        "stuff = [5, 3.0, \"MIKE ZERO\", b'a', [1,2]]"
      ]
    },
    {
      "cell_type": "code",
      "execution_count": 15,
      "metadata": {
        "colab": {
          "base_uri": "https://localhost:8080/"
        },
        "id": "Bmk1Fz5USOUf",
        "outputId": "42badd6e-7533-485d-b231-f584bfabba52"
      },
      "outputs": [
        {
          "output_type": "execute_result",
          "data": {
            "text/plain": [
              "int"
            ]
          },
          "metadata": {},
          "execution_count": 15
        }
      ],
      "source": [
        "type(stuff[0])"
      ]
    },
    {
      "cell_type": "markdown",
      "metadata": {
        "id": "ifr7jsl8SOUi"
      },
      "source": [
        "## Tuple\n",
        "Tuples are similar to lists but immutable (once they are created they cannot be changed)."
      ]
    },
    {
      "cell_type": "code",
      "execution_count": 16,
      "metadata": {
        "colab": {
          "base_uri": "https://localhost:8080/"
        },
        "id": "HJzHe8ogSOUl",
        "outputId": "dbad40d1-4735-4f55-cf1e-2a30d3b38d6e"
      },
      "outputs": [
        {
          "output_type": "execute_result",
          "data": {
            "text/plain": [
              "(34, 0.2, 'txt')"
            ]
          },
          "metadata": {},
          "execution_count": 16
        }
      ],
      "source": [
        "my_tuple = (34, 0.2, \"txt\")\n",
        "my_tuple"
      ]
    },
    {
      "cell_type": "code",
      "execution_count": 17,
      "metadata": {
        "colab": {
          "base_uri": "https://localhost:8080/",
          "height": 36
        },
        "id": "wnXhKWtOSOUo",
        "outputId": "93f61707-d14f-46ab-a4f2-c00a98941e02"
      },
      "outputs": [
        {
          "output_type": "execute_result",
          "data": {
            "text/plain": [
              "'txt'"
            ],
            "application/vnd.google.colaboratory.intrinsic+json": {
              "type": "string"
            }
          },
          "metadata": {},
          "execution_count": 17
        }
      ],
      "source": [
        "my_tuple[2]"
      ]
    },
    {
      "cell_type": "code",
      "execution_count": 18,
      "metadata": {
        "id": "5-ScnCRnSOUq"
      },
      "outputs": [],
      "source": [
        "# my_tuple[2] = 'new_txt'   # executing this line will fail"
      ]
    },
    {
      "cell_type": "markdown",
      "metadata": {
        "id": "5BqIVJfVSOUs"
      },
      "source": [
        "## Dictionary"
      ]
    },
    {
      "cell_type": "code",
      "execution_count": 19,
      "metadata": {
        "colab": {
          "base_uri": "https://localhost:8080/"
        },
        "id": "OCqwDmVCSOUv",
        "outputId": "788c16de-9f5e-4868-eac2-40d6a989546e"
      },
      "outputs": [
        {
          "output_type": "execute_result",
          "data": {
            "text/plain": [
              "{'banana': 4, 'apple': 7}"
            ]
          },
          "metadata": {},
          "execution_count": 19
        }
      ],
      "source": [
        "fruits = {'banana':4, 'apple':7}\n",
        "fruits"
      ]
    },
    {
      "cell_type": "code",
      "execution_count": 20,
      "metadata": {
        "colab": {
          "base_uri": "https://localhost:8080/"
        },
        "id": "NRO706S3SOUz",
        "outputId": "543a65af-c847-4990-ab36-e87e5a2707cc"
      },
      "outputs": [
        {
          "output_type": "execute_result",
          "data": {
            "text/plain": [
              "{'banana': 4, 'apple': 7, 'orange': 9}"
            ]
          },
          "metadata": {},
          "execution_count": 20
        }
      ],
      "source": [
        "fruits['orange'] = 9\n",
        "fruits"
      ]
    },
    {
      "cell_type": "code",
      "execution_count": 21,
      "metadata": {
        "colab": {
          "base_uri": "https://localhost:8080/"
        },
        "id": "f0IWu7pbSOU2",
        "outputId": "02ecafac-d0f6-4a99-9f48-16f628708882"
      },
      "outputs": [
        {
          "output_type": "execute_result",
          "data": {
            "text/plain": [
              "dict_keys(['banana', 'apple', 'orange'])"
            ]
          },
          "metadata": {},
          "execution_count": 21
        }
      ],
      "source": [
        "fruits.keys()"
      ]
    },
    {
      "cell_type": "code",
      "execution_count": 22,
      "metadata": {
        "colab": {
          "base_uri": "https://localhost:8080/"
        },
        "id": "v3qjXyebSOU5",
        "outputId": "ad57b358-0711-49cd-b131-a3274c23b92f"
      },
      "outputs": [
        {
          "output_type": "execute_result",
          "data": {
            "text/plain": [
              "4"
            ]
          },
          "metadata": {},
          "execution_count": 22
        }
      ],
      "source": [
        "fruits['banana']"
      ]
    },
    {
      "cell_type": "code",
      "execution_count": 23,
      "metadata": {
        "colab": {
          "base_uri": "https://localhost:8080/"
        },
        "id": "7MOM_wMmSOVF",
        "outputId": "c4fc377c-98af-4a72-dfef-ffcb744f546c"
      },
      "outputs": [
        {
          "output_type": "execute_result",
          "data": {
            "text/plain": [
              "dict_values([4, 7, 9])"
            ]
          },
          "metadata": {},
          "execution_count": 23
        }
      ],
      "source": [
        "fruits.values()"
      ]
    },
    {
      "cell_type": "code",
      "execution_count": 24,
      "metadata": {
        "colab": {
          "base_uri": "https://localhost:8080/"
        },
        "id": "ok22bN6aSOVI",
        "outputId": "542a25ce-0f71-4eec-f749-ab956dd05de6"
      },
      "outputs": [
        {
          "output_type": "execute_result",
          "data": {
            "text/plain": [
              "dict_items([('banana', 4), ('apple', 7), ('orange', 9)])"
            ]
          },
          "metadata": {},
          "execution_count": 24
        }
      ],
      "source": [
        "fruits.items()"
      ]
    },
    {
      "cell_type": "markdown",
      "metadata": {
        "id": "t_-9HozESOVL"
      },
      "source": [
        "## Control structures\n",
        "\n",
        "Notice the colons and identation!\n",
        "\n",
        "* [Python conditions](https://www.w3schools.com/python/python_conditions.asp)\n",
        "* [Python for loop](https://www.w3schools.com/python/python_for_loops.asp)"
      ]
    },
    {
      "cell_type": "code",
      "execution_count": 25,
      "metadata": {
        "colab": {
          "base_uri": "https://localhost:8080/"
        },
        "id": "ZhSF3MgbSOVN",
        "outputId": "ee3f9b21-6cda-44fc-f1e2-65006e9fc613"
      },
      "outputs": [
        {
          "output_type": "stream",
          "name": "stdout",
          "text": [
            "You are ok\n"
          ]
        }
      ],
      "source": [
        "i_am = 'ok'\n",
        "if i_am == 'ok':\n",
        "    print('You are ok')\n",
        "elif i_am == 'great':\n",
        "    print('You are great')\n",
        "else:\n",
        "    print(\"I don't know how you are!\")"
      ]
    },
    {
      "cell_type": "code",
      "execution_count": 26,
      "metadata": {
        "colab": {
          "base_uri": "https://localhost:8080/"
        },
        "id": "ZKIyunUCSOVT",
        "outputId": "09b2afe8-716a-4d7c-803e-05ad3ec02ad1"
      },
      "outputs": [
        {
          "output_type": "stream",
          "name": "stdout",
          "text": [
            "0\n",
            "1\n",
            "2\n"
          ]
        }
      ],
      "source": [
        "for j in range(3):\n",
        "    print(j)"
      ]
    },
    {
      "cell_type": "code",
      "execution_count": 27,
      "metadata": {
        "colab": {
          "base_uri": "https://localhost:8080/"
        },
        "id": "L0v4E9_6SOVX",
        "outputId": "e3ffe977-7210-40d9-f1bb-7829c7f63747"
      },
      "outputs": [
        {
          "output_type": "stream",
          "name": "stdout",
          "text": [
            "Hi Carl!\n",
            "Hi Chan!\n",
            "Hi Clarice!\n"
          ]
        }
      ],
      "source": [
        "names = ['Carl','Chan','Clarice']\n",
        "for name in names:\n",
        "    print(f'Hi {name}!')"
      ]
    },
    {
      "cell_type": "markdown",
      "metadata": {
        "id": "D8phQKVjSOVa"
      },
      "source": [
        "A loop can also be expressed using special syntax known as a list comprehension."
      ]
    },
    {
      "cell_type": "code",
      "execution_count": 28,
      "metadata": {
        "colab": {
          "base_uri": "https://localhost:8080/"
        },
        "id": "xl82RZalSOVj",
        "outputId": "59945089-6298-43ae-b579-129f11bc524e"
      },
      "outputs": [
        {
          "output_type": "execute_result",
          "data": {
            "text/plain": [
              "['carl', 'chan', 'clarice']"
            ]
          },
          "metadata": {},
          "execution_count": 28
        }
      ],
      "source": [
        "lnames = [name.lower() for name in names]\n",
        "lnames"
      ]
    },
    {
      "cell_type": "markdown",
      "metadata": {
        "id": "9nJV9NLSSOVm"
      },
      "source": [
        "## Functions\n",
        "\n",
        "It is very useful to create your own functions to collect code that belongs together in a function, which can be reused in several places in your code without copying and pasting the entire snippet."
      ]
    },
    {
      "cell_type": "code",
      "execution_count": 29,
      "metadata": {
        "id": "nkUAnTvPSOVp"
      },
      "outputs": [],
      "source": [
        "import re\n",
        "\n",
        "def clean_name(name):\n",
        "    \"Clean and short name\"\n",
        "    clean = re.sub('[^A-Za-z0-9]+', '', name)\n",
        "    short = clean[:15]\n",
        "    lower = short.lower()\n",
        "    return lower"
      ]
    },
    {
      "cell_type": "code",
      "execution_count": 30,
      "metadata": {
        "colab": {
          "base_uri": "https://localhost:8080/",
          "height": 36
        },
        "id": "m8H3_zWTSOVr",
        "outputId": "7d677696-099d-400d-9187-cf568ac09cc9"
      },
      "outputs": [
        {
          "output_type": "execute_result",
          "data": {
            "text/plain": [
              "'whatalousylongn'"
            ],
            "application/vnd.google.colaboratory.intrinsic+json": {
              "type": "string"
            }
          },
          "metadata": {},
          "execution_count": 30
        }
      ],
      "source": [
        "clean_name(\"#What a lousy & long name\")"
      ]
    },
    {
      "cell_type": "code",
      "execution_count": 31,
      "metadata": {
        "colab": {
          "base_uri": "https://localhost:8080/",
          "height": 36
        },
        "id": "PG32DI3GSOVu",
        "outputId": "d1262a83-f19b-4140-bf0a-bfa9512a11b0"
      },
      "outputs": [
        {
          "output_type": "execute_result",
          "data": {
            "text/plain": [
              "'goodname'"
            ],
            "application/vnd.google.colaboratory.intrinsic+json": {
              "type": "string"
            }
          },
          "metadata": {},
          "execution_count": 31
        }
      ],
      "source": [
        "clean_name(\"goodname\")"
      ]
    },
    {
      "cell_type": "code",
      "execution_count": 32,
      "metadata": {
        "id": "_2REb2LXSOV0"
      },
      "outputs": [],
      "source": [
        "long_and_ugly_names = [\"Wave Height # Modelled\", \"Wave Period # Modelled\", \"Wave Direction # Modelled\"]"
      ]
    },
    {
      "cell_type": "markdown",
      "metadata": {
        "id": "7j2BsDmkSOV4"
      },
      "source": [
        "Combine a list comprehension with your own function"
      ]
    },
    {
      "cell_type": "code",
      "execution_count": 33,
      "metadata": {
        "colab": {
          "base_uri": "https://localhost:8080/"
        },
        "id": "I1teMN_dSOV6",
        "outputId": "557c1455-842e-4f2f-b67a-5cac51443f24"
      },
      "outputs": [
        {
          "output_type": "execute_result",
          "data": {
            "text/plain": [
              "['waveheightmodel', 'waveperiodmodel', 'wavedirectionmo']"
            ]
          },
          "metadata": {},
          "execution_count": 33
        }
      ],
      "source": [
        "[clean_name(x) for x in long_and_ugly_names]"
      ]
    },
    {
      "cell_type": "code",
      "execution_count": 33,
      "metadata": {
        "id": "umQorcVxSOV-"
      },
      "outputs": [],
      "source": [
        "import math\n",
        "x = int(input(\"/ /^:^:&;!*(?)\")"
      ]
    },
    {
      "cell_type": "code",
      "source": [],
      "metadata": {
        "id": "oJbB1SQ-VEvq"
      },
      "execution_count": null,
      "outputs": []
    }
  ],
  "metadata": {
    "interpreter": {
      "hash": "f4041ee05ab07c15354d6207e763f17a216c3f5ccf08906343c2b4fd3fa7a6fb"
    },
    "kernelspec": {
      "display_name": "Python 3 (ipykernel)",
      "language": "python",
      "name": "python3"
    },
    "language_info": {
      "codemirror_mode": {
        "name": "ipython",
        "version": 3
      },
      "file_extension": ".py",
      "mimetype": "text/x-python",
      "name": "python",
      "nbconvert_exporter": "python",
      "pygments_lexer": "ipython3",
      "version": "3.10.12"
    },
    "colab": {
      "provenance": []
    }
  },
  "nbformat": 4,
  "nbformat_minor": 0
}